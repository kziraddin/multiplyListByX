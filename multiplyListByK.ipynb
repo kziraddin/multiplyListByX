{
 "cells": [
  {
   "cell_type": "code",
   "execution_count": 1,
   "id": "a3502c29",
   "metadata": {},
   "outputs": [
    {
     "name": "stdout",
     "output_type": "stream",
     "text": [
      "[50, 120, 310, 70, 250]\n"
     ]
    }
   ],
   "source": [
    "def multAll(A, k):\n",
    "    return [i*k for i in A]\n",
    "\n",
    "A1 = [5,12,31,7,25]\n",
    "\n",
    "result = multAll(A1, 10)\n",
    "\n",
    "print(result)"
   ]
  },
  {
   "cell_type": "code",
   "execution_count": null,
   "id": "2b2d11ca",
   "metadata": {},
   "outputs": [],
   "source": []
  }
 ],
 "metadata": {
  "kernelspec": {
   "display_name": "Python 3 (ipykernel)",
   "language": "python",
   "name": "python3"
  },
  "language_info": {
   "codemirror_mode": {
    "name": "ipython",
    "version": 3
   },
   "file_extension": ".py",
   "mimetype": "text/x-python",
   "name": "python",
   "nbconvert_exporter": "python",
   "pygments_lexer": "ipython3",
   "version": "3.9.12"
  }
 },
 "nbformat": 4,
 "nbformat_minor": 5
}
